{
 "cells": [
  {
   "cell_type": "code",
   "execution_count": null,
   "id": "complex-delight",
   "metadata": {},
   "outputs": [],
   "source": [
    "import time\n",
    "\n",
    "from numba import cuda\n",
    "import numpy as np # Arrays in Python\n",
    "\n",
    "from math import sin, cos, pi\n",
    "from matplotlib import pyplot as plt\n",
    "\n",
    "px = np.zeros([1024,1024])\n",
    "\n",
    "@cuda.jit\n",
    "def kernel_generate_image(image, T):\n",
    "\n",
    "    # Calculate the thread's absolute position within the grid\n",
    "    x = cuda.threadIdx.x + cuda.blockIdx.x * cuda.blockDim.x\n",
    "    y = cuda.threadIdx.y + cuda.blockIdx.y * cuda.blockDim.y\n",
    "\n",
    "    # Set stride equal to the number of threads we have available in either direction\n",
    "    stride_x = cuda.gridDim.x * cuda.blockDim.x\n",
    "    stride_y = cuda.gridDim.y * cuda.blockDim.y\n",
    "\n",
    "    for i in range(x, image.shape[0], stride_x):\n",
    "        for j in range(y, image.shape[1], stride_y):\n",
    "            image[i, j] = (sin(i*2*pi/T+1)*sin(j*2*pi/T+1)*0.25)\n",
    "\n",
    "kernel_generate_image[(16,16),(32,32)](px, 32)\n",
    "\n",
    "fig, (ax2) = plt.subplots(1,1)\n",
    "ax2.imshow(px)\n",
    "plt.title('Stride loop (4/4)')\n",
    "plt.savefig(\"pixelSquareComplete.png\")\n",
    "plt.show()\n",
    "\n",
    "print(px.shape)"
   ]
  },
  {
   "cell_type": "code",
   "execution_count": null,
   "id": "essential-billion",
   "metadata": {},
   "outputs": [],
   "source": [
    "from Helpers import synchronous_kernel_timeit as sync_timeit\n",
    "\n",
    "th = 10\n",
    "execution_times_1 = []\n",
    "execution_times_2 = []\n",
    "\n",
    "'''\n",
    "for i in range(32):\n",
    "    t = sync_timeit( lambda: kernel_generate_image[(4,4),(i+1,i+1)](px, 32), number=10)\n",
    "    execution_times_1.append(t)\n",
    "'''\n",
    "for i in range(1024):\n",
    "    t = sync_timeit( lambda: kernel_generate_image[(16,16),(1,i+1)](px, 32), number=10)\n",
    "    execution_times_2.append(t)  "
   ]
  },
  {
   "cell_type": "code",
   "execution_count": null,
   "id": "another-steam",
   "metadata": {},
   "outputs": [],
   "source": [
    "fig = plt.figure(figsize=(15,8))\n",
    "'''\n",
    "plt.subplot(1,2,1)\n",
    "plt.plot( [(i+1)**2 for i in range(len(execution_times_1))], execution_times_1 )\n",
    "plt.subplot(1,2,2)\n",
    "'''\n",
    "plt.subplot(2,1,1)\n",
    "plt.plot( [i+1 for i in range(len(execution_times_2))], execution_times_2 )\n",
    "plt.title(\"Execution times with thread pool size per block ranging from 1 to 1024 in one dimension\")\n",
    "plt.axvline(32,linestyle='--',color='r')\n",
    "plt.axvline(64,linestyle='--',color='r')\n",
    "plt.xlabel('thread count per block')\n",
    "plt.ylabel('execution time [s]')\n",
    "plt.yscale(\"log\")\n",
    "plt.subplot(2,1,2)\n",
    "plt.plot( [i+1 for i in range(len(execution_times_2))], execution_times_2 )\n",
    "plt.xlim(20,75)\n",
    "plt.ylim(0.01,0.02)\n",
    "plt.title(\"Zoom in on the execution times with thread pool size per block ranging from 20 to 75 in one dimension\")\n",
    "#fig.tight_layout()\n",
    "plt.subplots_adjust(hspace=0.33)\n",
    "plt.axvline(32,linestyle='--',color='r')\n",
    "plt.axvline(33,linestyle='--',color='r')\n",
    "plt.axvline(64,linestyle='--',color='r')\n",
    "plt.axvline(65,linestyle='--',color='r')\n",
    "plt.xlabel('thread count per block')\n",
    "plt.ylabel('execution time [s]')\n",
    "#plt.legend(['Quadratic upsize','Linear upsize'])\n",
    "plt.show()"
   ]
  }
 ],
 "metadata": {
  "kernelspec": {
   "display_name": "Python 3",
   "language": "python",
   "name": "python3"
  },
  "language_info": {
   "codemirror_mode": {
    "name": "ipython",
    "version": 3
   },
   "file_extension": ".py",
   "mimetype": "text/x-python",
   "name": "python",
   "nbconvert_exporter": "python",
   "pygments_lexer": "ipython3",
   "version": "3.8.3"
  }
 },
 "nbformat": 4,
 "nbformat_minor": 5
}
